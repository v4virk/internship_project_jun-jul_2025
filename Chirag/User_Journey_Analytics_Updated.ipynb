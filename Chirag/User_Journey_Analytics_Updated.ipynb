{
 "cells": [
  {
   "cell_type": "markdown",
   "id": "17c015b9",
   "metadata": {},
   "source": [
    "# 📊 Real-Time E-commerce Analytics (User Journey Funnel)"
   ]
  },
  {
   "cell_type": "code",
   "execution_count": null,
   "id": "58b897c9",
   "metadata": {},
   "outputs": [],
   "source": [
    "!pip install pandas pyarrow seaborn\n"
   ]
  },
  {
   "cell_type": "code",
   "execution_count": null,
   "id": "a9be4e9d",
   "metadata": {},
   "outputs": [],
   "source": [
    "from google.colab import files\n",
    "uploaded = files.upload()\n"
   ]
  },
  {
   "cell_type": "code",
   "execution_count": null,
   "id": "920e34a9",
   "metadata": {},
   "outputs": [],
   "source": [
    "import pandas as pd\n",
    "import json\n",
    "\n",
    "df = pd.read_json('events_log_with_userid.json', lines=True)\n",
    "df['timestamp'] = pd.to_datetime(df['timestamp'], unit='s', errors='coerce')\n",
    "\n",
    "if 'products' in df.columns:\n",
    "    df = df.explode('products')\n",
    "    product_df = pd.json_normalize(df['products'])\n",
    "    df = pd.concat([df.drop(columns=['products']).reset_index(drop=True), product_df.reset_index(drop=True)], axis=1)\n",
    "\n",
    "if 'price' in df.columns:\n",
    "    df['price'] = df['price'].replace('[\\$,]', '', regex=True).astype(float)\n",
    "\n",
    "df.head()\n"
   ]
  },
  {
   "cell_type": "code",
   "execution_count": null,
   "id": "2fe573ed",
   "metadata": {},
   "outputs": [],
   "source": [
    "df.to_parquet('user_events_final.parquet', engine='pyarrow', index=False)\n"
   ]
  },
  {
   "cell_type": "code",
   "execution_count": null,
   "id": "ee3ebe5c",
   "metadata": {},
   "outputs": [],
   "source": [
    "from google.colab import files\n",
    "files.download('user_events_final.parquet')\n"
   ]
  },
  {
   "cell_type": "code",
   "execution_count": null,
   "id": "84476ab8",
   "metadata": {},
   "outputs": [],
   "source": [
    "user_paths = df.groupby('user_id')['event_type'].apply(list).reset_index()\n",
    "\n",
    "def classify_path(events):\n",
    "    if 'login' in events and all(e == 'login' for e in events):\n",
    "        return 'Login Only'\n",
    "    elif 'login' in events and 'add_to_cart' in events and 'purchase' not in events:\n",
    "        return 'Login + Add to Cart Only'\n",
    "    elif 'login' in events and 'add_to_cart' in events and 'purchase' in events:\n",
    "        return 'Login + Add + Purchase'\n",
    "    else:\n",
    "        return 'Other'\n",
    "\n",
    "user_paths['user_journey'] = user_paths['event_type'].apply(classify_path)\n",
    "user_paths.head()\n"
   ]
  },
  {
   "cell_type": "code",
   "execution_count": null,
   "id": "026674e1",
   "metadata": {},
   "outputs": [],
   "source": [
    "user_paths['user_journey'].value_counts()\n"
   ]
  },
  {
   "cell_type": "code",
   "execution_count": null,
   "id": "3e99fc8c",
   "metadata": {},
   "outputs": [],
   "source": [
    "print(\"Total Logins:\", df[df['event_type'] == 'login'].shape[0])\n",
    "\n",
    "add_df = df[df['event_type'] == 'add_to_cart']\n",
    "print(\"\\nTop Product Categories in Cart:\\n\", add_df['product_category'].value_counts())\n",
    "\n",
    "purchase_df = df[df['event_type'] == 'purchase']\n",
    "print(\"\\nTop Brands Purchased:\\n\", purchase_df['brand'].value_counts())\n",
    "\n",
    "view_df = df[df['event_type'] == 'view_product']\n",
    "print(\"\\nMost Viewed Product Types:\\n\", view_df['product_type'].value_counts())\n",
    "\n",
    "search_df = df[df['event_type'] == 'search']\n",
    "print(\"\\nTotal Search Events:\", len(search_df))\n"
   ]
  },
  {
   "cell_type": "code",
   "execution_count": null,
   "id": "8cd6f089",
   "metadata": {},
   "outputs": [],
   "source": [
    "import seaborn as sns\n",
    "import matplotlib.pyplot as plt\n",
    "\n",
    "sns.countplot(y='user_journey', data=user_paths, order=user_paths['user_journey'].value_counts().index)\n",
    "plt.title(\"User Journey Funnel\")\n",
    "plt.xlabel(\"Number of Users\")\n",
    "plt.ylabel(\"Journey Stage\")\n",
    "plt.show()\n"
   ]
  },
  {
   "cell_type": "markdown",
   "id": "f17c1093",
   "metadata": {},
   "source": [
    "## 🔄 Micro-Batch Analytics Loop (Every 5 Seconds)"
   ]
  },
  {
   "cell_type": "code",
   "execution_count": null,
   "id": "6acfa3d9",
   "metadata": {},
   "outputs": [],
   "source": [
    "import pandas as pd\n",
    "import time\n",
    "import os\n",
    "\n",
    "parquet_path = 'user_events_final.parquet'\n",
    "processed_rows = 0\n",
    "\n",
    "while True:\n",
    "    if os.path.exists(parquet_path):\n",
    "        try:\n",
    "            df = pd.read_parquet(parquet_path)\n",
    "            if len(df) > processed_rows:\n",
    "                print(f\"\\n🔄 New data detected: {len(df) - processed_rows} new rows\")\n",
    "                new_data = df.iloc[processed_rows:]\n",
    "                processed_rows = len(df)\n",
    "                journey_df = new_data.groupby('user_id')['event_type'].apply(list).reset_index()\n",
    "                def classify_path(events):\n",
    "                    if 'login' in events and all(e == 'login' for e in events):\n",
    "                        return 'Login Only'\n",
    "                    elif 'login' in events and 'add_to_cart' in events and 'purchase' not in events:\n",
    "                        return 'Login + Add to Cart Only'\n",
    "                    elif 'login' in events and 'add_to_cart' in events and 'purchase' in events:\n",
    "                        return 'Login + Add + Purchase'\n",
    "                    else:\n",
    "                        return 'Other'\n",
    "                journey_df['user_journey'] = journey_df['event_type'].apply(classify_path)\n",
    "                print(journey_df['user_journey'].value_counts())\n",
    "            else:\n",
    "                print(\"⏳ No new data...\")\n",
    "        except Exception as e:\n",
    "            print(\"⚠️ Error reading file:\", e)\n",
    "    time.sleep(5)\n"
   ]
  }
 ],
 "metadata": {},
 "nbformat": 4,
 "nbformat_minor": 5
}
